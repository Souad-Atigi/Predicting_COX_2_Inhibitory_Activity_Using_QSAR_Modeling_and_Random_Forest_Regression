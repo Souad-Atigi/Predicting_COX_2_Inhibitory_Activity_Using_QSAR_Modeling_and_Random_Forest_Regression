{
  "nbformat": 4,
  "nbformat_minor": 0,
  "metadata": {
    "colab": {
      "provenance": [],
      "gpuType": "T4"
    },
    "kernelspec": {
      "name": "python3",
      "display_name": "Python 3"
    },
    "language_info": {
      "name": "python"
    },
    "accelerator": "GPU"
  },
  "cells": [
    {
      "cell_type": "markdown",
      "source": [
        "\n",
        "\n"
      ],
      "metadata": {
        "id": "214Rpv-54AVc"
      }
    },
    {
      "cell_type": "markdown",
      "source": [
        "<h3>Install Necessary Libraries</h3>\n",
        "\n",
        "First, we need to install and import the required libraries for data processing, chemical informatics, and machine learning."
      ],
      "metadata": {
        "id": "K9o-VYAl1ViH"
      }
    },
    {
      "cell_type": "code",
      "source": [
        "#Install necessary libraries\n",
        "!pip install rdkit chembl_webresource_client\n",
        "import pandas as pd\n",
        "from rdkit import Chem\n",
        "from rdkit.Chem import Descriptors, AllChem\n",
        "import matplotlib.pyplot as plt\n",
        "import seaborn as sns\n",
        "import pandas as pd\n",
        "import numpy as np\n",
        "from chembl_webresource_client.new_client import new_client\n",
        "from sklearn.model_selection import train_test_split\n",
        "from sklearn.ensemble import RandomForestRegressor\n",
        "from sklearn.metrics import r2_score, mean_squared_error"
      ],
      "metadata": {
        "colab": {
          "base_uri": "https://localhost:8080/"
        },
        "id": "WmicpzGLpvS3",
        "outputId": "4ba5c8ea-b2cb-4fe2-cc75-5666a61b8199"
      },
      "execution_count": null,
      "outputs": [
        {
          "output_type": "stream",
          "name": "stdout",
          "text": [
            "Collecting rdkit\n",
            "  Downloading rdkit-2024.3.3-cp310-cp310-manylinux_2_28_x86_64.whl.metadata (3.9 kB)\n",
            "Collecting chembl_webresource_client\n",
            "  Downloading chembl_webresource_client-0.10.9-py3-none-any.whl.metadata (1.4 kB)\n",
            "Requirement already satisfied: numpy<2.0 in /usr/local/lib/python3.10/dist-packages (from rdkit) (1.26.4)\n",
            "Requirement already satisfied: Pillow in /usr/local/lib/python3.10/dist-packages (from rdkit) (9.4.0)\n",
            "Requirement already satisfied: urllib3 in /usr/local/lib/python3.10/dist-packages (from chembl_webresource_client) (2.0.7)\n",
            "Requirement already satisfied: requests>=2.18.4 in /usr/local/lib/python3.10/dist-packages (from chembl_webresource_client) (2.31.0)\n",
            "Collecting requests-cache~=1.2 (from chembl_webresource_client)\n",
            "  Downloading requests_cache-1.2.1-py3-none-any.whl.metadata (9.9 kB)\n",
            "Requirement already satisfied: easydict in /usr/local/lib/python3.10/dist-packages (from chembl_webresource_client) (1.13)\n",
            "Requirement already satisfied: charset-normalizer<4,>=2 in /usr/local/lib/python3.10/dist-packages (from requests>=2.18.4->chembl_webresource_client) (3.3.2)\n",
            "Requirement already satisfied: idna<4,>=2.5 in /usr/local/lib/python3.10/dist-packages (from requests>=2.18.4->chembl_webresource_client) (3.7)\n",
            "Requirement already satisfied: certifi>=2017.4.17 in /usr/local/lib/python3.10/dist-packages (from requests>=2.18.4->chembl_webresource_client) (2024.7.4)\n",
            "Requirement already satisfied: attrs>=21.2 in /usr/local/lib/python3.10/dist-packages (from requests-cache~=1.2->chembl_webresource_client) (23.2.0)\n",
            "Collecting cattrs>=22.2 (from requests-cache~=1.2->chembl_webresource_client)\n",
            "  Downloading cattrs-23.2.3-py3-none-any.whl.metadata (10 kB)\n",
            "Requirement already satisfied: platformdirs>=2.5 in /usr/local/lib/python3.10/dist-packages (from requests-cache~=1.2->chembl_webresource_client) (4.2.2)\n",
            "Collecting url-normalize>=1.4 (from requests-cache~=1.2->chembl_webresource_client)\n",
            "  Downloading url_normalize-1.4.3-py2.py3-none-any.whl.metadata (3.1 kB)\n",
            "Requirement already satisfied: exceptiongroup>=1.1.1 in /usr/local/lib/python3.10/dist-packages (from cattrs>=22.2->requests-cache~=1.2->chembl_webresource_client) (1.2.2)\n",
            "Requirement already satisfied: typing-extensions!=4.6.3,>=4.1.0 in /usr/local/lib/python3.10/dist-packages (from cattrs>=22.2->requests-cache~=1.2->chembl_webresource_client) (4.12.2)\n",
            "Requirement already satisfied: six in /usr/local/lib/python3.10/dist-packages (from url-normalize>=1.4->requests-cache~=1.2->chembl_webresource_client) (1.16.0)\n",
            "Downloading rdkit-2024.3.3-cp310-cp310-manylinux_2_28_x86_64.whl (33.1 MB)\n",
            "\u001b[2K   \u001b[90m━━━━━━━━━━━━━━━━━━━━━━━━━━━━━━━━━━━━━━━━\u001b[0m \u001b[32m33.1/33.1 MB\u001b[0m \u001b[31m13.7 MB/s\u001b[0m eta \u001b[36m0:00:00\u001b[0m\n",
            "\u001b[?25hDownloading chembl_webresource_client-0.10.9-py3-none-any.whl (55 kB)\n",
            "\u001b[2K   \u001b[90m━━━━━━━━━━━━━━━━━━━━━━━━━━━━━━━━━━━━━━━━\u001b[0m \u001b[32m55.2/55.2 kB\u001b[0m \u001b[31m1.5 MB/s\u001b[0m eta \u001b[36m0:00:00\u001b[0m\n",
            "\u001b[?25hDownloading requests_cache-1.2.1-py3-none-any.whl (61 kB)\n",
            "\u001b[2K   \u001b[90m━━━━━━━━━━━━━━━━━━━━━━━━━━━━━━━━━━━━━━━━\u001b[0m \u001b[32m61.4/61.4 kB\u001b[0m \u001b[31m2.9 MB/s\u001b[0m eta \u001b[36m0:00:00\u001b[0m\n",
            "\u001b[?25hDownloading cattrs-23.2.3-py3-none-any.whl (57 kB)\n",
            "\u001b[2K   \u001b[90m━━━━━━━━━━━━━━━━━━━━━━━━━━━━━━━━━━━━━━━━\u001b[0m \u001b[32m57.5/57.5 kB\u001b[0m \u001b[31m3.1 MB/s\u001b[0m eta \u001b[36m0:00:00\u001b[0m\n",
            "\u001b[?25hDownloading url_normalize-1.4.3-py2.py3-none-any.whl (6.8 kB)\n",
            "Installing collected packages: url-normalize, rdkit, cattrs, requests-cache, chembl_webresource_client\n",
            "Successfully installed cattrs-23.2.3 chembl_webresource_client-0.10.9 rdkit-2024.3.3 requests-cache-1.2.1 url-normalize-1.4.3\n"
          ]
        }
      ]
    },
    {
      "cell_type": "markdown",
      "source": [
        "<h3>Data Retrieval and Initial Processing<h3>\n",
        "\n",
        "In this section, we retrieve activity data for COX-2 inhibitors from the ChEMBL database and load it into a pandas DataFrame for initial processing."
      ],
      "metadata": {
        "id": "IVPf_uxi2CPH"
      }
    },
    {
      "cell_type": "code",
      "source": [
        "target = new_client.target\n",
        "activity = new_client.activity\n",
        "\n",
        "cox2 = target.filter(pref_name=\"Cyclooxygenase-2\").only('target_chembl_id')[0]\n",
        "\n",
        "activities = activity.filter(target_chembl_id=cox2['target_chembl_id'])\n",
        "df = pd.DataFrame.from_dict(activities)[:1000]\n",
        "\n",
        "print(df.shape)\n",
        "print(df['standard_type'].value_counts())\n",
        "print(df['standard_units'].value_counts())\n"
      ],
      "metadata": {
        "colab": {
          "base_uri": "https://localhost:8080/"
        },
        "id": "Zr166BQTp6sa",
        "outputId": "ec91930c-204c-49ab-b7e5-e874703240ea"
      },
      "execution_count": null,
      "outputs": [
        {
          "output_type": "stream",
          "name": "stdout",
          "text": [
            "(1000, 46)\n",
            "standard_type\n",
            "IC50          749\n",
            "Inhibition    231\n",
            "NT             20\n",
            "Name: count, dtype: int64\n",
            "standard_units\n",
            "nM    749\n",
            "%     207\n",
            "uM     24\n",
            "Name: count, dtype: int64\n"
          ]
        }
      ]
    },
    {
      "cell_type": "markdown",
      "source": [
        "2"
      ],
      "metadata": {
        "id": "YIb7jppPqmdi"
      }
    },
    {
      "cell_type": "code",
      "source": [
        "df = df[['molecule_chembl_id', 'canonical_smiles', 'standard_value', 'standard_type', 'standard_units']]\n",
        "df = df.dropna()\n",
        "\n",
        "print(\"Shape after initial filtering:\", df.shape)"
      ],
      "metadata": {
        "colab": {
          "base_uri": "https://localhost:8080/"
        },
        "id": "JMOxdTHJqdY2",
        "outputId": "8df62835-c094-430f-e289-160948874afe"
      },
      "execution_count": null,
      "outputs": [
        {
          "output_type": "stream",
          "name": "stdout",
          "text": [
            "Shape after initial filtering: (975, 5)\n"
          ]
        }
      ]
    },
    {
      "cell_type": "markdown",
      "source": [
        "<h3>Data Cleaning and Transformation</h3>\n",
        "\n",
        "This section focuses on cleaning the data by filtering for IC50 values, converting units to nM, and calculating pIC50 values."
      ],
      "metadata": {
        "id": "xrNLWkdj2WLK"
      }
    },
    {
      "cell_type": "code",
      "source": [
        "# Filter for IC50 values and convert units\n",
        "df = df[df['standard_type'] == 'IC50']\n",
        "df.loc[df['standard_units'] == 'uM', 'standard_value'] *= 1000\n",
        "df = df[df['standard_units'].isin(['nM', 'uM'])]  # Keep only nM and uM (now converted to nM)\n",
        "\n",
        "print(\"Shape after filtering for IC50 and unit conversion:\", df.shape)\n",
        "\n",
        "df['standard_value'] = pd.to_numeric(df['standard_value'], errors='coerce')\n",
        "df = df.dropna(subset=['standard_value'])\n",
        "\n",
        "print(\"Shape after converting to numeric:\", df.shape)"
      ],
      "metadata": {
        "colab": {
          "base_uri": "https://localhost:8080/"
        },
        "id": "QmfOGbfMqk4a",
        "outputId": "ea263ede-e6ec-4dfb-e5ee-51b9a0cc9efa"
      },
      "execution_count": null,
      "outputs": [
        {
          "output_type": "stream",
          "name": "stdout",
          "text": [
            "Shape after filtering for IC50 and unit conversion: (744, 5)\n",
            "Shape after converting to numeric: (744, 5)\n"
          ]
        },
        {
          "output_type": "stream",
          "name": "stderr",
          "text": [
            "<ipython-input-5-6069bcd4db15>:3: SettingWithCopyWarning: \n",
            "A value is trying to be set on a copy of a slice from a DataFrame\n",
            "\n",
            "See the caveats in the documentation: https://pandas.pydata.org/pandas-docs/stable/user_guide/indexing.html#returning-a-view-versus-a-copy\n",
            "  df.loc[df['standard_units'] == 'uM', 'standard_value'] *= 1000\n"
          ]
        }
      ]
    },
    {
      "cell_type": "code",
      "source": [
        "# Convert IC50 values to pIC50\n",
        "df['pIC50'] = -np.log10(df['standard_value'] * 1e-9)\n",
        "\n",
        "print(\"pIC50 statistics:\")\n",
        "print(df['pIC50'].describe())"
      ],
      "metadata": {
        "colab": {
          "base_uri": "https://localhost:8080/"
        },
        "id": "09HD-DrxqjER",
        "outputId": "29a1109a-bb47-46ee-d915-f67c2d10074b"
      },
      "execution_count": null,
      "outputs": [
        {
          "output_type": "stream",
          "name": "stdout",
          "text": [
            "pIC50 statistics:\n",
            "count    744.000000\n",
            "mean       6.515338\n",
            "std        1.297821\n",
            "min        3.000000\n",
            "25%        5.663283\n",
            "50%        6.565443\n",
            "75%        7.522879\n",
            "max       10.096910\n",
            "Name: pIC50, dtype: float64\n"
          ]
        }
      ]
    },
    {
      "cell_type": "markdown",
      "source": [
        "<h3>Exploratory Data Analysis</h3>\n",
        "\n",
        "In this part, we analyze the distribution of pIC50 values to understand the characteristics of our dataset."
      ],
      "metadata": {
        "id": "A8TLvpmZ2mAH"
      }
    },
    {
      "cell_type": "code",
      "source": [
        "# Check for infinities or very large/small values\n",
        "print(\"\\nInfinite values in pIC50:\", np.isinf(df['pIC50']).sum())\n",
        "print(\"pIC50 values above 15 or below 0:\", ((df['pIC50'] > 15) | (df['pIC50'] < 0)).sum())"
      ],
      "metadata": {
        "colab": {
          "base_uri": "https://localhost:8080/"
        },
        "id": "NKlK_py9qhQA",
        "outputId": "ff656648-633e-45c7-e28e-cbb693da2e2a"
      },
      "execution_count": null,
      "outputs": [
        {
          "output_type": "stream",
          "name": "stdout",
          "text": [
            "\n",
            "Infinite values in pIC50: 0\n",
            "pIC50 values above 15 or below 0: 0\n"
          ]
        }
      ]
    },
    {
      "cell_type": "code",
      "source": [
        "# Plot distribution of pIC50 values\n",
        "plt.figure(figsize=(10, 6))\n",
        "sns.histplot(df['pIC50'], kde=True)\n",
        "plt.title('Distribution of pIC50 values')\n",
        "plt.xlabel('pIC50')\n",
        "plt.ylabel('Count')\n",
        "plt.show()"
      ],
      "metadata": {
        "colab": {
          "base_uri": "https://localhost:8080/",
          "height": 564
        },
        "id": "h7vwzHyUqfuH",
        "outputId": "ab98503c-071e-4d5e-b8f9-7246fd4db94e"
      },
      "execution_count": null,
      "outputs": [
        {
          "output_type": "display_data",
          "data": {
            "text/plain": [
              "<Figure size 1000x600 with 1 Axes>"
            ],
            "image/png": "[encoded data removed]"
          },
          "metadata": {}
        }
      ]
    },
    {
      "cell_type": "markdown",
      "source": [
        "<h3>Feature Generation</h3>\n",
        "\n",
        "Here, we generate Morgan fingerprints for each molecule, representing their chemical structures in a binary format suitable for machine learning."
      ],
      "metadata": {
        "id": "2P16kK8g2uag"
      }
    },
    {
      "cell_type": "markdown",
      "source": [
        "3"
      ],
      "metadata": {
        "id": "7hF4LqG1sMsc"
      }
    },
    {
      "cell_type": "code",
      "source": [
        "# Function to compute Morgan fingerprints using MorganGenerator\n",
        "def compute_fingerprint(smiles, radius=2, nBits=1024):\n",
        "    mol = Chem.MolFromSmiles(smiles)\n",
        "    if mol is not None:\n",
        "        generator = AllChem.GetMorganGenerator(radius=radius, fpSize=nBits)\n",
        "        fp = generator.GetFingerprint(mol)\n",
        "        return fp\n",
        "    return None"
      ],
      "metadata": {
        "id": "sQ7UDKIgyo0F"
      },
      "execution_count": null,
      "outputs": []
    },
    {
      "cell_type": "code",
      "source": [
        "# Compute fingerprints for each molecule\n",
        "df['fingerprint'] = df['canonical_smiles'].apply(compute_fingerprint)"
      ],
      "metadata": {
        "id": "yZIdE6CCCbGr"
      },
      "execution_count": null,
      "outputs": []
    },
    {
      "cell_type": "code",
      "source": [
        "# Convert fingerprints to binary features\n",
        "def fingerprint_to_binary(fp):\n",
        "    if fp is not None:\n",
        "        return list(fp)\n",
        "    return [0] * 1024  # Return a list of zeros if fingerprint is None\n",
        "\n",
        "fingerprint_bits = df['fingerprint'].apply(fingerprint_to_binary)\n",
        "fingerprint_features = pd.DataFrame(fingerprint_bits.tolist(), columns=[f'bit_{i}' for i in range(1024)])"
      ],
      "metadata": {
        "id": "LZMxvU_QCc6m"
      },
      "execution_count": null,
      "outputs": []
    },
    {
      "cell_type": "code",
      "source": [
        "# Combine fingerprint features with pIC50 values\n",
        "X = fingerprint_features\n",
        "y = df['pIC50']\n",
        "\n",
        "print(\"Shape of feature matrix X:\", X.shape)\n",
        "print(\"Shape of target vector y:\", y.shape)"
      ],
      "metadata": {
        "colab": {
          "base_uri": "https://localhost:8080/"
        },
        "id": "5KgO3nM_CizP",
        "outputId": "e90701a6-5b1b-4d81-9041-2091f7d702cf"
      },
      "execution_count": null,
      "outputs": [
        {
          "output_type": "stream",
          "name": "stdout",
          "text": [
            "Shape of feature matrix X: (744, 1024)\n",
            "Shape of target vector y: (744,)\n"
          ]
        }
      ]
    },
    {
      "cell_type": "markdown",
      "source": [
        "<h3>Model Training and Evaluation</h3>\n",
        "\n",
        "We split the data into training and test sets, train a Random Forest regression model, and evaluate its performance."
      ],
      "metadata": {
        "id": "JI5V3MkT26sv"
      }
    },
    {
      "cell_type": "code",
      "source": [
        "# Check for NaN or infinite values\n",
        "print(\"NaN values in X:\", X.isna().sum().sum())\n",
        "print(\"NaN values in y:\", y.isna().sum())\n",
        "print(\"Infinite values in X:\", np.isinf(X).sum().sum())\n",
        "print(\"Infinite values in y:\", np.isinf(y).sum())"
      ],
      "metadata": {
        "colab": {
          "base_uri": "https://localhost:8080/"
        },
        "id": "Vqp0XzAeCnPe",
        "outputId": "50ac644c-9c90-482d-a081-b1494278cfbb"
      },
      "execution_count": null,
      "outputs": [
        {
          "output_type": "stream",
          "name": "stdout",
          "text": [
            "NaN values in X: 0\n",
            "NaN values in y: 0\n",
            "Infinite values in X: 0\n",
            "Infinite values in y: 0\n"
          ]
        }
      ]
    },
    {
      "cell_type": "code",
      "source": [
        "# Split data into training and test sets\n",
        "X_train, X_test, y_train, y_test = train_test_split(X, y, test_size=0.2, random_state=42)\n",
        "\n",
        "# Train the Random Forest model\n",
        "rf = RandomForestRegressor(n_estimators=100, random_state=42)\n",
        "rf.fit(X_train, y_train)"
      ],
      "metadata": {
        "colab": {
          "base_uri": "https://localhost:8080/",
          "height": 75
        },
        "id": "9Pwd_FQwC0Kj",
        "outputId": "c38e74f7-ca94-4779-8d49-84fe128efd7f"
      },
      "execution_count": null,
      "outputs": [
        {
          "output_type": "execute_result",
          "data": {
            "text/plain": [
              "RandomForestRegressor(random_state=42)"
            ],
            "text/html": [
              "<style>#sk-container-id-1 {color: black;}#sk-container-id-1 pre{padding: 0;}#sk-container-id-1 div.sk-toggleable {background-color: white;}#sk-container-id-1 label.sk-toggleable__label {cursor: pointer;display: block;width: 100%;margin-bottom: 0;padding: 0.3em;box-sizing: border-box;text-align: center;}#sk-container-id-1 label.sk-toggleable__label-arrow:before {content: \"▸\";float: left;margin-right: 0.25em;color: #696969;}#sk-container-id-1 label.sk-toggleable__label-arrow:hover:before {color: black;}#sk-container-id-1 div.sk-estimator:hover label.sk-toggleable__label-arrow:before {color: black;}#sk-container-id-1 div.sk-toggleable__content {max-height: 0;max-width: 0;overflow: hidden;text-align: left;background-color: #f0f8ff;}#sk-container-id-1 div.sk-toggleable__content pre {margin: 0.2em;color: black;border-radius: 0.25em;background-color: #f0f8ff;}#sk-container-id-1 input.sk-toggleable__control:checked~div.sk-toggleable__content {max-height: 200px;max-width: 100%;overflow: auto;}#sk-container-id-1 input.sk-toggleable__control:checked~label.sk-toggleable__label-arrow:before {content: \"▾\";}#sk-container-id-1 div.sk-estimator input.sk-toggleable__control:checked~label.sk-toggleable__label {background-color: #d4ebff;}#sk-container-id-1 div.sk-label input.sk-toggleable__control:checked~label.sk-toggleable__label {background-color: #d4ebff;}#sk-container-id-1 input.sk-hidden--visually {border: 0;clip: rect(1px 1px 1px 1px);clip: rect(1px, 1px, 1px, 1px);height: 1px;margin: -1px;overflow: hidden;padding: 0;position: absolute;width: 1px;}#sk-container-id-1 div.sk-estimator {font-family: monospace;background-color: #f0f8ff;border: 1px dotted black;border-radius: 0.25em;box-sizing: border-box;margin-bottom: 0.5em;}#sk-container-id-1 div.sk-estimator:hover {background-color: #d4ebff;}#sk-container-id-1 div.sk-parallel-item::after {content: \"\";width: 100%;border-bottom: 1px solid gray;flex-grow: 1;}#sk-container-id-1 div.sk-label:hover label.sk-toggleable__label {background-color: #d4ebff;}#sk-container-id-1 div.sk-serial::before {content: \"\";position: absolute;border-left: 1px solid gray;box-sizing: border-box;top: 0;bottom: 0;left: 50%;z-index: 0;}#sk-container-id-1 div.sk-serial {display: flex;flex-direction: column;align-items: center;background-color: white;padding-right: 0.2em;padding-left: 0.2em;position: relative;}#sk-container-id-1 div.sk-item {position: relative;z-index: 1;}#sk-container-id-1 div.sk-parallel {display: flex;align-items: stretch;justify-content: center;background-color: white;position: relative;}#sk-container-id-1 div.sk-item::before, #sk-container-id-1 div.sk-parallel-item::before {content: \"\";position: absolute;border-left: 1px solid gray;box-sizing: border-box;top: 0;bottom: 0;left: 50%;z-index: -1;}#sk-container-id-1 div.sk-parallel-item {display: flex;flex-direction: column;z-index: 1;position: relative;background-color: white;}#sk-container-id-1 div.sk-parallel-item:first-child::after {align-self: flex-end;width: 50%;}#sk-container-id-1 div.sk-parallel-item:last-child::after {align-self: flex-start;width: 50%;}#sk-container-id-1 div.sk-parallel-item:only-child::after {width: 0;}#sk-container-id-1 div.sk-dashed-wrapped {border: 1px dashed gray;margin: 0 0.4em 0.5em 0.4em;box-sizing: border-box;padding-bottom: 0.4em;background-color: white;}#sk-container-id-1 div.sk-label label {font-family: monospace;font-weight: bold;display: inline-block;line-height: 1.2em;}#sk-container-id-1 div.sk-label-container {text-align: center;}#sk-container-id-1 div.sk-container {/* jupyter's `normalize.less` sets `[hidden] { display: none; }` but bootstrap.min.css set `[hidden] { display: none !important; }` so we also need the `!important` here to be able to override the default hidden behavior on the sphinx rendered scikit-learn.org. See: https://github.com/scikit-learn/scikit-learn/issues/21755 */display: inline-block !important;position: relative;}#sk-container-id-1 div.sk-text-repr-fallback {display: none;}</style><div id=\"sk-container-id-1\" class=\"sk-top-container\"><div class=\"sk-text-repr-fallback\"><pre>RandomForestRegressor(random_state=42)</pre><b>In a Jupyter environment, please rerun this cell to show the HTML representation or trust the notebook. <br />On GitHub, the HTML representation is unable to render, please try loading this page with nbviewer.org.</b></div><div class=\"sk-container\" hidden><div class=\"sk-item\"><div class=\"sk-estimator sk-toggleable\"><input class=\"sk-toggleable__control sk-hidden--visually\" id=\"sk-estimator-id-1\" type=\"checkbox\" checked><label for=\"sk-estimator-id-1\" class=\"sk-toggleable__label sk-toggleable__label-arrow\">RandomForestRegressor</label><div class=\"sk-toggleable__content\"><pre>RandomForestRegressor(random_state=42)</pre></div></div></div></div></div>"
            ]
          },
          "metadata": {},
          "execution_count": 20
        }
      ]
    },
    {
      "cell_type": "code",
      "source": [
        "# Predict and evaluate the model\n",
        "y_pred_train = rf.predict(X_train)\n",
        "y_pred_test = rf.predict(X_test)\n",
        "\n",
        "print(\"Train R2:\", r2_score(y_train, y_pred_train))\n",
        "print(\"Test R2:\", r2_score(y_test, y_pred_test))\n",
        "print(\"Test RMSE:\", mean_squared_error(y_test, y_pred_test, squared=False))\n"
      ],
      "metadata": {
        "colab": {
          "base_uri": "https://localhost:8080/"
        },
        "id": "K9arbU3LDJnY",
        "outputId": "eeeceffc-3cd5-4251-f531-e2241764a545"
      },
      "execution_count": null,
      "outputs": [
        {
          "output_type": "stream",
          "name": "stdout",
          "text": [
            "Train R2: 0.9024334702752398\n",
            "Test R2: 0.6376152083522095\n",
            "Test RMSE: 0.76600336721846\n"
          ]
        }
      ]
    },
    {
      "cell_type": "markdown",
      "source": [
        "<h3>Feature Importance Analysis</h3>\n",
        "\n",
        "Finally, we analyze the importance of each fingerprint bit to understand which features are most relevant for predicting pIC50 values."
      ],
      "metadata": {
        "id": "r5qrAmLU3EXA"
      }
    },
    {
      "cell_type": "code",
      "source": [
        "# Analyze feature importance\n",
        "importances = rf.feature_importances_\n",
        "indices = np.argsort(importances)[::-1]\n",
        "features = [f'bit_{i}' for i in range(1024)]\n",
        "sorted_features = [features[i] for i in indices]\n",
        "\n",
        "plt.figure(figsize=(10, 6))\n",
        "plt.title(\"Feature Importance\")\n",
        "plt.bar(range(20), importances[indices][:20], align='center')\n",
        "plt.xticks(range(20), sorted_features[:20], rotation=90)\n",
        "plt.show()"
      ],
      "metadata": {
        "colab": {
          "base_uri": "https://localhost:8080/",
          "height": 582
        },
        "id": "3Oog7XcSDV_5",
        "outputId": "9b143b40-216d-404b-d121-828c65567c0c"
      },
      "execution_count": null,
      "outputs": [
        {
          "output_type": "display_data",
          "data": {
            "text/plain": [
              "<Figure size 1000x600 with 1 Axes>"
            ],
            "image/png": "[encoded data removed]"
          },
          "metadata": {}
        }
      ]
    }
  ]
}